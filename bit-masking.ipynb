{
 "cells": [
  {
   "cell_type": "code",
   "execution_count": 1,
   "metadata": {},
   "outputs": [],
   "source": [
    "import gc\n",
    "import numpy as np\n",
    "import xarray as xr\n",
    "import matplotlib.pyplot as plt\n",
    "import matplotlib as mpl\n",
    "import rioxarray as rxr\n",
    "from osgeo import gdal\n",
    "from xarray.ufuncs import logical_or  as xr_or\n",
    "import yaml\n",
    "from datetime import datetime"
   ]
  },
  {
   "cell_type": "markdown",
   "metadata": {},
   "source": [
    "Selecting Bands:"
   ]
  },
  {
   "cell_type": "code",
   "execution_count": 2,
   "metadata": {},
   "outputs": [],
   "source": [
    "# Directory with Landsat scene data\n",
    "landsat_folder = '/home/spatialdays/Documents/ARD_Data/ARD_Landsat/ScaleValues/Scaled/LC08_L2SR_082071_20211126_tmp_2/LC08_L2SR_082071_20211126/'\n",
    "#landsat_folder = '/home/spatialdays/Documents/ARD_Data/ARD_Landsat/ScaleValues/Scaled/LE07_L2SP_086067_20060427_tmp/LE07_L2SP_086067_20060427/'\n",
    "\n",
    "# Select the QA Pixel Band\n",
    "qa_band = landsat_folder + 'LC08_L2SR_082071_20211126_20211201_02_T1_QA_PIXEL.tif'\n",
    "#qa_band = landsat_folder + 'LE07_L2SP_086067_20060427_20200914_02_T1_QA_PIXEL.tif'"
   ]
  },
  {
   "cell_type": "markdown",
   "metadata": {},
   "source": [
    "Bitmasking functions from dc_Mosaic with slight adjustments:"
   ]
  },
  {
   "cell_type": "code",
   "execution_count": 3,
   "metadata": {},
   "outputs": [],
   "source": [
    "def unpack_bits(land_cover_endcoding, data_array, cover_type):\n",
    "    boolean_mask = np.isin(data_array.values, land_cover_endcoding[cover_type])\n",
    "    return xr.DataArray(boolean_mask.astype(bool),\n",
    "                        coords=data_array.coords,\n",
    "                        dims=data_array.dims,\n",
    "                        name=cover_type + \"_mask\",\n",
    "                        attrs=data_array.attrs)\n",
    "\n",
    "def ls8_oli_unpack_qa(data_array, cover_type):\n",
    "    land_cover_encoding = dict(\n",
    "                               clear=[21952, 22208],\n",
    "                               )\n",
    "    return unpack_bits(land_cover_encoding, data_array, cover_type)\n",
    "\n",
    "def ls8_unpack_qa(data_array, cover_type):\n",
    "    \"\"\"\n",
    "    Function from dc_mosaic.py\n",
    "\n",
    "    notes: 4th bit is cloud; 5th/6th bit are cloud confidence; 7th/8th bit are cloud shadow confidence\n",
    "    \"\"\"\n",
    "    boolean_mask = np.zeros(data_array.shape, dtype=bool)\n",
    "\n",
    "    data_array = data_array.astype(np.int64)\n",
    "\n",
    "    if cover_type == 'clear':\n",
    "        # 6th bit is clear\n",
    "        boolean_mask |=  ((data_array & 0b0000000001000000) != 0)\n",
    "\n",
    "    elif cover_type == 'water':\n",
    "        # 7th bit is water\n",
    "        boolean_mask |= ((data_array & 0b0000000010000000) != 0)\n",
    "\n",
    "    else:\n",
    "        raise ValueError(f\"Cover type {cover_type} not supported for Landsat 8 yet\")\n",
    "\n",
    "    #logging.info(f\"Applied {cover_type} mask for Landsat 8\")\n",
    "    return xr.DataArray(boolean_mask.astype(bool),\n",
    "                        coords=data_array.coords,\n",
    "                        dims=data_array.dims,\n",
    "                        name=cover_type + \"_mask\",\n",
    "                        attrs=data_array.attrs)\n",
    "\n",
    "def ls7_unpack_qa(data_array, cover_type):\n",
    "    land_cover_endcoding = dict(fill=[1],\n",
    "                                clear=[5896],\n",
    "                                water=[68, 132],\n",
    "                                shadow=[72, 136],\n",
    "                                snow=[80, 112, 144, 176],\n",
    "                                cloud=[96, 112, 160, 176, 224],\n",
    "                                low_conf=[66, 68, 72, 80, 96, 112],\n",
    "                                med_conf=[130, 132, 136, 144, 160, 176],\n",
    "                                high_conf=[224]\n",
    "                                )\n",
    "    return unpack_bits(land_cover_endcoding, data_array, cover_type)\n",
    "\n",
    "\n",
    "\n",
    "def landsat_qa_clean_mask(dataset, platform, cover_types):\n",
    "    processing_options = {\n",
    "        #\"LANDSAT_4\": ls4_unpack_qa,\n",
    "        #\"LANDSAT_5\": ls5_unpack_qa,\n",
    "        \"LANDSAT_7\": ls7_unpack_qa,\n",
    "        \"LANDSAT_8\": ls8_unpack_qa,\n",
    "        #\"SENTINEL_2\": sen2_unpack_qa\n",
    "    }\n",
    "\n",
    "    clean_mask = None\n",
    "    # Keep all specified cover types (e.g. 'clear', 'water'), so logically or the separate masks.\n",
    "    \n",
    "    if platform == \"SENTINEL_2\":\n",
    "        for i, cover_type in enumerate(cover_types):\n",
    "            cover_type_clean_mask = processing_options[platform](dataset.scene_classification, cover_type)\n",
    "            clean_mask = cover_type_clean_mask if i == 0 else xr_or(clean_mask, cover_type_clean_mask)\n",
    "    \n",
    "    else: \n",
    "        \n",
    "        for i, cover_type in enumerate(cover_types):\n",
    "            print(f'running cover_type: {cover_type}')\n",
    "            print(dataset.pixel_qa)\n",
    "            cover_type_clean_mask = processing_options[platform](dataset.pixel_qa, cover_type)\n",
    "            clean_mask = cover_type_clean_mask if i == 0 else xr_or(clean_mask, cover_type_clean_mask)\n",
    "\n",
    "    return clean_mask\n",
    "\n",
    "def rename_bands(in_xr, des_bands, position):\n",
    "    in_xr.name = des_bands[position]\n",
    "    return in_xr"
   ]
  },
  {
   "cell_type": "markdown",
   "metadata": {},
   "source": [
    "Prepare data and run bitmasking:"
   ]
  },
  {
   "cell_type": "code",
   "execution_count": 4,
   "metadata": {},
   "outputs": [
    {
     "name": "stderr",
     "output_type": "stream",
     "text": [
      "/home/spatialdays/anaconda3/envs/SAR/lib/python3.11/site-packages/osgeo/gdal.py:287: FutureWarning: Neither gdal.UseExceptions() nor gdal.DontUseExceptions() has been explicitly called. In GDAL 4.0, exceptions will be enabled by default.\n",
      "  warnings.warn(\n"
     ]
    }
   ],
   "source": [
    "# Read the QA Pixel Band as array\n",
    "qa_arr = gdal.Open(qa_band).ReadAsArray()\n",
    "\n",
    "# Read yml metadata\n",
    "yml = landsat_folder + 'datacube-metadata.yaml'\n",
    "with open (yml) as stream: yml_meta = yaml.safe_load(stream) \n",
    "\n",
    "# Define desired bands\n",
    "des_bands = ['blue', 'green', 'red', 'nir', 'swir1', 'swir2', 'pixel_qa']\n",
    "\n",
    "# Read bands with xarray\n",
    "o_bands_data = [ rxr.open_rasterio(landsat_folder + yml_meta['image']['bands'][b]['path']) for b in des_bands ] \n",
    "bands_data = xr.merge([rename_bands(bd, des_bands, i) for i,bd in enumerate(o_bands_data)]).rename({'band': 'time'}) # ensure band names & dims consistent\n",
    "bands_data = bands_data.assign_attrs(o_bands_data[0].attrs) # crs etc. needed later\n",
    "bands_data['time'] = [datetime.strptime(yml_meta['extent']['center_dt'], '%Y-%m-%d %H:%M:%S')] # time dim needed for wofs\n"
   ]
  },
  {
   "cell_type": "code",
   "execution_count": 5,
   "metadata": {},
   "outputs": [
    {
     "name": "stdout",
     "output_type": "stream",
     "text": [
      "running cover_type: clear\n",
      "<xarray.DataArray 'pixel_qa' (time: 1, y: 9763, x: 8664)>\n",
      "array([[[1., 1., 1., ..., 1., 1., 1.],\n",
      "        [1., 1., 1., ..., 1., 1., 1.],\n",
      "        [1., 1., 1., ..., 1., 1., 1.],\n",
      "        ...,\n",
      "        [1., 1., 1., ..., 1., 1., 1.],\n",
      "        [1., 1., 1., ..., 1., 1., 1.],\n",
      "        [1., 1., 1., ..., 1., 1., 1.]]])\n",
      "Coordinates:\n",
      "  * x            (x) float64 165.8 165.8 165.8 165.8 ... 167.9 167.9 167.9 167.9\n",
      "  * y            (y) float64 -16.97 -16.97 -16.97 ... -14.84 -14.84 -14.84\n",
      "  * time         (time) datetime64[ns] 2021-11-26\n",
      "    spatial_ref  int64 0\n",
      "Attributes:\n",
      "    AREA_OR_POINT:       Area\n",
      "    OVR_RESAMPLING_ALG:  AVERAGE\n",
      "    scale_factor:        1.0\n",
      "    add_offset:          0.0\n"
     ]
    },
    {
     "name": "stderr",
     "output_type": "stream",
     "text": [
      "/home/spatialdays/anaconda3/envs/SAR/lib/python3.11/site-packages/xarray/core/duck_array_ops.py:188: RuntimeWarning: invalid value encountered in cast\n",
      "  return data.astype(dtype, **kwargs)\n"
     ]
    },
    {
     "name": "stdout",
     "output_type": "stream",
     "text": [
      "running cover_type: water\n",
      "<xarray.DataArray 'pixel_qa' (time: 1, y: 9763, x: 8664)>\n",
      "array([[[1., 1., 1., ..., 1., 1., 1.],\n",
      "        [1., 1., 1., ..., 1., 1., 1.],\n",
      "        [1., 1., 1., ..., 1., 1., 1.],\n",
      "        ...,\n",
      "        [1., 1., 1., ..., 1., 1., 1.],\n",
      "        [1., 1., 1., ..., 1., 1., 1.],\n",
      "        [1., 1., 1., ..., 1., 1., 1.]]])\n",
      "Coordinates:\n",
      "  * x            (x) float64 165.8 165.8 165.8 165.8 ... 167.9 167.9 167.9 167.9\n",
      "  * y            (y) float64 -16.97 -16.97 -16.97 ... -14.84 -14.84 -14.84\n",
      "  * time         (time) datetime64[ns] 2021-11-26\n",
      "    spatial_ref  int64 0\n",
      "Attributes:\n",
      "    AREA_OR_POINT:       Area\n",
      "    OVR_RESAMPLING_ALG:  AVERAGE\n",
      "    scale_factor:        1.0\n",
      "    add_offset:          0.0\n"
     ]
    },
    {
     "name": "stderr",
     "output_type": "stream",
     "text": [
      "/home/spatialdays/anaconda3/envs/SAR/lib/python3.11/site-packages/xarray/core/duck_array_ops.py:188: RuntimeWarning: invalid value encountered in cast\n",
      "  return data.astype(dtype, **kwargs)\n",
      "/tmp/ipykernel_1268944/3264901589.py:81: FutureWarning: xarray.ufuncs is deprecated. Instead, use numpy ufuncs directly.\n",
      "  clean_mask = cover_type_clean_mask if i == 0 else xr_or(clean_mask, cover_type_clean_mask)\n",
      "/home/spatialdays/anaconda3/envs/SAR/lib/python3.11/site-packages/xarray/core/dataarray.py:3081: FutureWarning: xarray.ufuncs is deprecated. Instead, use numpy ufuncs directly.\n",
      "  f(self.variable, other_variable)\n",
      "/home/spatialdays/anaconda3/envs/SAR/lib/python3.11/site-packages/xarray/core/variable.py:2409: FutureWarning: xarray.ufuncs is deprecated. Instead, use numpy ufuncs directly.\n",
      "  f(self_data, other_data) if not reflexive else f(other_data, self_data)\n"
     ]
    }
   ],
   "source": [
    "clearsky_masks = landsat_qa_clean_mask(bands_data, 'LANDSAT_8', cover_types=['clear', 'water'])\n",
    "#water_masks = landsat_qa_clean_mask(bands_data, 'LANDSAT_8', cover_types=['water'])"
   ]
  },
  {
   "cell_type": "code",
   "execution_count": 6,
   "metadata": {},
   "outputs": [],
   "source": [
    "# Write masked data to tif\n",
    "vis_clearsky_masks = clearsky_masks.squeeze('time').astype('int16')\n",
    "vis_clearsky_masks.rio.to_raster(raster_path = 'clearsky_mask_vals_l8.tif', driver=\"COG\")\n",
    "\n",
    "#vis_water_masks = water_masks.squeeze('time').astype('int26')\n",
    "#vis_water_masks.rio.to_raster(raster_path = 'water_mask.tif', driver=\"COG\")"
   ]
  },
  {
   "cell_type": "code",
   "execution_count": null,
   "metadata": {},
   "outputs": [],
   "source": [
    "# Visualize masks\n",
    "# Create the figure and plot the NDWI data\n",
    "fig, axs = plt.subplots(1, 2)\n",
    "\n",
    "# Define the custom colormap\n",
    "custom_cmap = mpl.colors.LinearSegmentedColormap.from_list(\"\", [\"red\",\"blue\"])\n",
    "\n",
    "# Visualize NDWI\n",
    "clear_im = axs[0].imshow(vis_clearsky_masks, cmap=custom_cmap, vmin=-1, vmax=1)\n",
    "plt.colorbar(clear_im, ax=axs[0], shrink=0.5)\n",
    "\n",
    "# Define the bounds for colormap normalization\n",
    "bounds = [-1, 0.2, 1]\n",
    "\n",
    "# Normalize the colormap\n",
    "norm = plt.cm.colors.BoundaryNorm(bounds, cmap.N, clip=True)\n",
    "\n",
    "# Visualize the thresholded NDWI\n",
    "thresh_im = axs[1].imshow(ndwi_data, cmap=cmap, norm=norm)\n",
    "plt.colorbar(thresh_im, ax=axs[1], shrink=0.5)\n",
    "\n",
    "plt.tight_layout()\n"
   ]
  },
  {
   "cell_type": "code",
   "execution_count": null,
   "metadata": {},
   "outputs": [],
   "source": [
    "# Open qa band with gdal\n",
    "qa = gdal.Open(qa_band)\n",
    "\n",
    "# Print out crs of qa\n",
    "print(qa.GetProjection())\n",
    "\n",
    "# Print out crs of original qa pixel band\n",
    "print(bands_data['pixel_qa'].rio.crs)\n",
    "\n",
    "# Print out crs of clearsky mask\n",
    "print(vis_clearsky_masks.rio.crs)"
   ]
  }
 ],
 "metadata": {
  "kernelspec": {
   "display_name": "SAR",
   "language": "python",
   "name": "python3"
  },
  "language_info": {
   "codemirror_mode": {
    "name": "ipython",
    "version": 3
   },
   "file_extension": ".py",
   "mimetype": "text/x-python",
   "name": "python",
   "nbconvert_exporter": "python",
   "pygments_lexer": "ipython3",
   "version": "3.11.5"
  },
  "orig_nbformat": 4
 },
 "nbformat": 4,
 "nbformat_minor": 2
}
